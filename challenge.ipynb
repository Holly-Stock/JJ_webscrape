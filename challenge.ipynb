{
 "cells": [
  {
   "cell_type": "markdown",
   "source": "## Jade Jones Challenge\n\n> If you have not had a chance to check out the [Lazy Guide to Web Scraping](https://github.com/sportsdatasolutions/sport_x_code_eis/blob/master/3.projects/LazyGuides/web_scraping.md) please do so! You can find the code for the guide in this [Deepnote Project](https://deepnote.com/project/0d7f30b4-7eb4-4d7e-b601-28085e59e0d3#%2F1.OpenAPI.ipynb).\n\n#### The challenge is to simply scrape Jade Jones current results list from her profile on the World TKD website [here](https://worldtkd.simplycompete.com/playerProfileV2?month=0&year=2020&rankingTypeId=11ea9376-1b54-af01-aefb-0af9674366aa&userId=11e6eef4-60d2-88e0-92b4-12f817a4f090).\n1. ##### **Start** by ***using the Network Tool*** on your ```browser``` to identify any possible requests for the data in the tables.\n\n2. ##### **Copy** and **Paste** the ***request url*** into a new tab on your **browser** to see if you can access the API without the actual website.\n\n3. ##### **Make a call** for the relevant data via [`requests`.](https://requests.readthedocs.io/en/master/)\n\n4. ##### Use plain Python to grab the data from the **first table** (Olympic Kyorugi Ranking) and save the data to a new `json` file within the `data` folder.\n\n    **Hint:** Use the **preview tab** on a recorded response within your **network panel** to inspect the ***nested data***.\n",
   "metadata": {
    "tags": [],
    "output_cleared": false,
    "cell_id": "00000-5442ab05-63ef-40f2-9a73-a3f0e125d4ec",
    "deepnote_cell_type": "markdown"
   }
  },
  {
   "cell_type": "code",
   "metadata": {
    "output_cleared": false,
    "source_hash": "af4fb211",
    "execution_millis": 614,
    "cell_id": "00001-d6c7f926-f7f1-46ab-ae1f-65bc375dcd62",
    "execution_start": 1622565178717,
    "deepnote_to_be_reexecuted": false,
    "deepnote_cell_type": "code"
   },
   "source": "import requests\nimport json\nimport pandas as pd\n\nresponse = requests.get('https://worldtkd.simplycompete.com/getPlayerProfileV2?month=0&rankingTypeId=11ea9376-1b54-af01-aefb-0af9674366aa&userId=11e6eef4-60d2-88e0-92b4-12f817a4f090&year=2020').json()\n\nprint(response.keys())\n\n## extract level 1 nested dictionary \"data\"\ntable_data1 = response.get(\"data\")\n\nprint(table_data1.keys())\n\n## extract level 2 nested dictionary \"data\"\ntable_data2 = table_data1.get(\"data\")\n\nprint(table_data2.keys())\n\n## extract level 3 nested dictionary \"rankingCategory\"\ntable_data3 = table_data2.get(\"rankingCategory\")\n\n##extract level 4 nested list (first list) from 3 lists available\ntable_data4 = table_data3[0]\n\n## extract level 5 nested dict \"eventResults\"\nprint(table_data4.keys())\ntable_data5 = table_data4.get(\"eventResults\")\n\n## check table matches expected output\ntaekwondo_dataframe = pd.DataFrame.from_dict(table_data5)\ntaekwondo_dataframe.sort_values('rankingPoints')\n\nwith open('data/jj_data.json', 'w') as outfile:\n    json.dump(table_data5, outfile)",
   "execution_count": 25,
   "outputs": [
    {
     "name": "stdout",
     "text": "dict_keys(['loggedInUserDetails', 'currentAppVersion', 'data'])\ndict_keys(['status', 'data'])\ndict_keys(['ranks', 'profilePicUrl', 'month', 'year', 'preferredFirstName', 'wtfLicenseId', 'rankingCategory', 'preferredLastName'])\ndict_keys(['rankingCategoryName', 'totalPoints', 'errors', 'eventResults'])\n",
     "output_type": "stream"
    }
   ]
  },
  {
   "cell_type": "code",
   "source": "taekwondo_dataframe",
   "metadata": {
    "tags": [],
    "cell_id": "00002-05199611-8788-4604-9e53-eb6c4007bdfb",
    "deepnote_to_be_reexecuted": false,
    "source_hash": "2b077053",
    "execution_start": 1622564957469,
    "execution_millis": 38,
    "deepnote_cell_type": "code"
   },
   "outputs": [
    {
     "output_type": "execute_result",
     "execution_count": 24,
     "data": {
      "application/vnd.deepnote.dataframe.v2+json": {
       "row_count": 21,
       "column_count": 11,
       "columns": [
        {
         "name": "eventId",
         "dtype": "object",
         "stats": {
          "unique_count": 21,
          "nan_count": 0,
          "categories": [
           {
            "name": "11e7d9c8-3c6d-6bf6-82cb-061a3c127d92",
            "count": 1
           },
           {
            "name": "11e74e9a-0bbf-f8ce-8b62-32cfdb66d63a",
            "count": 1
           },
           {
            "name": "19 others",
            "count": 19
           }
          ]
         }
        },
        {
         "name": "gRank",
         "dtype": "object",
         "stats": {
          "unique_count": 6,
          "nan_count": 0,
          "categories": [
           {
            "name": "G-4",
            "count": 9
           },
           {
            "name": "G-8",
            "count": 4
           },
           {
            "name": "4 others",
            "count": 8
           }
          ]
         }
        },
        {
         "name": "endDate",
         "dtype": "object",
         "stats": {
          "unique_count": 21,
          "nan_count": 0,
          "categories": [
           {
            "name": "13 May 2018",
            "count": 1
           },
           {
            "name": "22 May 2016",
            "count": 1
           },
           {
            "name": "19 others",
            "count": 19
           }
          ]
         }
        },
        {
         "name": "eventRank",
         "dtype": "object",
         "stats": {
          "unique_count": 0,
          "nan_count": 21,
          "categories": [
           {
            "name": "Missing",
            "count": 21
           }
          ]
         }
        },
        {
         "name": "eventName",
         "dtype": "object",
         "stats": {
          "unique_count": 21,
          "nan_count": 0,
          "categories": [
           {
            "name": "2018 European Senior Championship",
            "count": 1
           },
           {
            "name": "ETU European Taekwondo Championships 2016",
            "count": 1
           },
           {
            "name": "19 others",
            "count": 19
           }
          ]
         }
        },
        {
         "name": "generatedEndDate",
         "dtype": "object",
         "stats": {
          "unique_count": 21,
          "nan_count": 0,
          "categories": [
           {
            "name": "2018-05-13",
            "count": 1
           },
           {
            "name": "2016-05-22",
            "count": 1
           },
           {
            "name": "19 others",
            "count": 19
           }
          ]
         }
        },
        {
         "name": "location",
         "dtype": "object",
         "stats": {
          "unique_count": 19,
          "nan_count": 0,
          "categories": [
           {
            "name": "Manchester, UK",
            "count": 2
           },
           {
            "name": "Sofia, Bulgaria",
            "count": 2
           },
           {
            "name": "17 others",
            "count": 17
           }
          ]
         }
        },
        {
         "name": "place",
         "dtype": "int64",
         "stats": {
          "unique_count": 1,
          "nan_count": 0,
          "min": "1",
          "max": "1",
          "histogram": [
           {
            "bin_start": 0.5,
            "bin_end": 0.6,
            "count": 0
           },
           {
            "bin_start": 0.6,
            "bin_end": 0.7,
            "count": 0
           },
           {
            "bin_start": 0.7,
            "bin_end": 0.8,
            "count": 0
           },
           {
            "bin_start": 0.8,
            "bin_end": 0.9,
            "count": 0
           },
           {
            "bin_start": 0.9,
            "bin_end": 1,
            "count": 0
           },
           {
            "bin_start": 1,
            "bin_end": 1.1,
            "count": 21
           },
           {
            "bin_start": 1.1,
            "bin_end": 1.2000000000000002,
            "count": 0
           },
           {
            "bin_start": 1.2000000000000002,
            "bin_end": 1.3,
            "count": 0
           },
           {
            "bin_start": 1.3,
            "bin_end": 1.4,
            "count": 0
           },
           {
            "bin_start": 1.4,
            "bin_end": 1.5,
            "count": 0
           }
          ]
         }
        },
        {
         "name": "eventResult",
         "dtype": "int64",
         "stats": {
          "unique_count": 5,
          "nan_count": 0,
          "min": "1",
          "max": "9",
          "histogram": [
           {
            "bin_start": 1,
            "bin_end": 1.8,
            "count": 12
           },
           {
            "bin_start": 1.8,
            "bin_end": 2.6,
            "count": 3
           },
           {
            "bin_start": 2.6,
            "bin_end": 3.4000000000000004,
            "count": 1
           },
           {
            "bin_start": 3.4000000000000004,
            "bin_end": 4.2,
            "count": 0
           },
           {
            "bin_start": 4.2,
            "bin_end": 5,
            "count": 0
           },
           {
            "bin_start": 5,
            "bin_end": 5.800000000000001,
            "count": 3
           },
           {
            "bin_start": 5.800000000000001,
            "bin_end": 6.6000000000000005,
            "count": 0
           },
           {
            "bin_start": 6.6000000000000005,
            "bin_end": 7.4,
            "count": 0
           },
           {
            "bin_start": 7.4,
            "bin_end": 8.2,
            "count": 0
           },
           {
            "bin_start": 8.2,
            "bin_end": 9,
            "count": 2
           }
          ]
         }
        },
        {
         "name": "rankingPoints",
         "dtype": "object",
         "stats": {
          "unique_count": 15,
          "nan_count": 0,
          "categories": [
           {
            "name": "30.00",
            "count": 3
           },
           {
            "name": "10.00",
            "count": 3
           },
           {
            "name": "13 others",
            "count": 15
           }
          ]
         }
        },
        {
         "name": "startDate",
         "dtype": "object",
         "stats": {
          "unique_count": 16,
          "nan_count": 0,
          "categories": [
           {
            "name": "19",
            "count": 3
           },
           {
            "name": "22",
            "count": 2
           },
           {
            "name": "14 others",
            "count": 16
           }
          ]
         }
        },
        {
         "name": "_deepnote_index_column",
         "dtype": "int64"
        }
       ],
       "rows_top": [
        {
         "eventId": "11e7d9c8-3c6d-6bf6-82cb-061a3c127d92",
         "gRank": "G-4",
         "endDate": "13 May 2018",
         "eventRank": "None",
         "eventName": "2018 European Senior Championship",
         "generatedEndDate": "2018-05-13",
         "location": "Kazan, Russia",
         "place": 1,
         "eventResult": 1,
         "rankingPoints": "30.00",
         "startDate": "10",
         "_deepnote_index_column": 0
        },
        {
         "eventId": "11e74e9a-0bbf-f8ce-8b62-32cfdb66d63a",
         "gRank": "G-4",
         "endDate": "22 May 2016",
         "eventRank": "None",
         "eventName": "ETU European Taekwondo Championships 2016",
         "generatedEndDate": "2016-05-22",
         "location": "Montreux, Switzerland",
         "place": 1,
         "eventResult": 1,
         "rankingPoints": "10.00",
         "startDate": "19",
         "_deepnote_index_column": 1
        },
        {
         "eventId": "11e74e9a-0723-dbb1-8b62-32cfdb66d63a",
         "gRank": "G-1",
         "endDate": "24 April 2016",
         "eventRank": "None",
         "eventName": "GERMAN OPEN 2016",
         "generatedEndDate": "2016-04-24",
         "location": "Hamburg, Germany",
         "place": 1,
         "eventResult": 1,
         "rankingPoints": "2.50",
         "startDate": "23",
         "_deepnote_index_column": 2
        },
        {
         "eventId": "11e74e9a-14f4-b106-8b62-32cfdb66d63a",
         "gRank": "G-20",
         "endDate": "20 August 2016",
         "eventRank": "None",
         "eventName": "Rio 2016 Olympic Games",
         "generatedEndDate": "2016-08-20",
         "location": "Rio, Brazil",
         "place": 1,
         "eventResult": 1,
         "rankingPoints": "50.00",
         "startDate": "17",
         "_deepnote_index_column": 3
        },
        {
         "eventId": "11e74e9a-1bc5-3b63-8b62-32cfdb66d63a",
         "gRank": "G-8",
         "endDate": "10 December 2016",
         "eventRank": "None",
         "eventName": "2016 WTF World Taekwondo Grand-Prix Final, Baku",
         "generatedEndDate": "2016-12-10",
         "location": "Baku, Azerbaijan",
         "place": 1,
         "eventResult": 1,
         "rankingPoints": "20.00",
         "startDate": "9",
         "_deepnote_index_column": 4
        },
        {
         "eventId": "11e6f466-e3cc-57db-9a5c-0689828eb611",
         "gRank": "G-2",
         "endDate": "30 April 2017",
         "eventRank": "None",
         "eventName": "2nd WTF President`s Cup - European Region",
         "generatedEndDate": "2017-04-30",
         "location": "Athens, Greece",
         "place": 1,
         "eventResult": 1,
         "rankingPoints": "10.00",
         "startDate": "27",
         "_deepnote_index_column": 5
        },
        {
         "eventId": "11e6fe53-0921-32de-9e01-0689828eb611",
         "gRank": "G-12",
         "endDate": "30 June 2017",
         "eventRank": "None",
         "eventName": "2017 WTF World Taekwondo Championships",
         "generatedEndDate": "2017-06-30",
         "location": "Muju, Korea",
         "place": 1,
         "eventResult": 3,
         "rankingPoints": "21.60",
         "startDate": "24",
         "_deepnote_index_column": 6
        },
        {
         "eventId": "11e725d6-ec39-80e9-ae1b-0a8c30bf787f",
         "gRank": "G-4",
         "endDate": "24 September 2017",
         "eventRank": "None",
         "eventName": "World Taekwondo Grand-Prix Rabat 2017",
         "generatedEndDate": "2017-09-24",
         "location": "Rabat, Morocco",
         "place": 1,
         "eventResult": 2,
         "rankingPoints": "12.00",
         "startDate": "22",
         "_deepnote_index_column": 7
        },
        {
         "eventId": "11e725e8-4e01-2eb3-ae1b-0a8c30bf787f",
         "gRank": "G-4",
         "endDate": "22 October 2017",
         "eventRank": "None",
         "eventName": "World Taekwondo Grand-Prix London 2017",
         "generatedEndDate": "2017-10-22",
         "location": "London, UK",
         "place": 1,
         "eventResult": 1,
         "rankingPoints": "20.00",
         "startDate": "20",
         "_deepnote_index_column": 8
        },
        {
         "eventId": "11e725ec-9b0d-9f13-ae1b-0a8c30bf787f",
         "gRank": "G-8",
         "endDate": "3 December 2017",
         "eventRank": "None",
         "eventName": "Abidjan 2017 World Taekwondo Grand Prix Final",
         "generatedEndDate": "2017-12-03",
         "location": "Abidjan, Cote d'Ivoire",
         "place": 1,
         "eventResult": 1,
         "rankingPoints": "40.00",
         "startDate": "2",
         "_deepnote_index_column": 9
        },
        {
         "eventId": "11e7d9c4-83c6-ca10-b791-0a52019ae5aa",
         "gRank": "G-2",
         "endDate": "31 March 2018",
         "eventRank": "None",
         "eventName": "2nd WT Presidents Cup-Africa Region",
         "generatedEndDate": "2018-03-31",
         "location": "Agadir, Morocco",
         "place": 1,
         "eventResult": 9,
         "rankingPoints": "2.27",
         "startDate": "31",
         "_deepnote_index_column": 10
        },
        {
         "eventId": "11e7d9ce-5136-de39-82cb-061a3c127d92",
         "gRank": "G-4",
         "endDate": "3 June 2018",
         "eventRank": "None",
         "eventName": "ROMA 2018 World Taekwondo Grand Prix",
         "generatedEndDate": "2018-06-03",
         "location": "Rome, Italy",
         "place": 1,
         "eventResult": 1,
         "rankingPoints": "30.00",
         "startDate": "1",
         "_deepnote_index_column": 11
        },
        {
         "eventId": "11e7d9d5-89e3-ab53-b791-0a52019ae5aa",
         "gRank": "G-4",
         "endDate": "21 September 2018",
         "eventRank": "None",
         "eventName": "Taoyuan 2018 World Taekwondo Grand-Prix",
         "generatedEndDate": "2018-09-21",
         "location": "Taoyuan, Chinese Taipei",
         "place": 1,
         "eventResult": 5,
         "rankingPoints": "6.48",
         "startDate": "19",
         "_deepnote_index_column": 12
        },
        {
         "eventId": "11e7d9d8-e842-9382-b791-0a52019ae5aa",
         "gRank": "G-4",
         "endDate": "21 October 2018",
         "eventRank": "None",
         "eventName": "Manchester 2018 World Taekwondo Grand-Prix",
         "generatedEndDate": "2018-10-21",
         "location": "Manchester, UK",
         "place": 1,
         "eventResult": 1,
         "rankingPoints": "30.00",
         "startDate": "19",
         "_deepnote_index_column": 13
        },
        {
         "eventId": "11e7d9de-222c-ae7e-82cb-061a3c127d92",
         "gRank": "G-8",
         "endDate": "23 November 2018",
         "eventRank": "None",
         "eventName": "Fujairah 2018 World Taekwondo Grand-Prix Final",
         "generatedEndDate": "2018-11-23",
         "location": "Fujairah, UAE",
         "place": 1,
         "eventResult": 5,
         "rankingPoints": "9.08",
         "startDate": "22",
         "_deepnote_index_column": 14
        },
        {
         "eventId": "11e8eda6-c097-fbb3-805a-02cae30e8f2a",
         "gRank": "G-2",
         "endDate": "17 March 2019",
         "eventRank": "None",
         "eventName": "Belgian Open 2019",
         "generatedEndDate": "2019-03-17",
         "location": "Lommel, Belgium",
         "place": 1,
         "eventResult": 2,
         "rankingPoints": "12.00",
         "startDate": "16",
         "_deepnote_index_column": 15
        },
        {
         "eventId": "11e8eda8-764f-3116-805a-02cae30e8f2a",
         "gRank": "G-1",
         "endDate": "21 April 2019",
         "eventRank": "None",
         "eventName": "Sofia Open 2019",
         "generatedEndDate": "2019-04-21",
         "location": "Sofia, Bulgaria",
         "place": 1,
         "eventResult": 1,
         "rankingPoints": "10.00",
         "startDate": "20",
         "_deepnote_index_column": 16
        },
        {
         "eventId": "11e8eda9-03a9-903c-805a-02cae30e8f2a",
         "gRank": "G-12",
         "endDate": "19 May 2019",
         "eventRank": "None",
         "eventName": "Manchester 2019 World Taekwondo Championships",
         "generatedEndDate": "2019-05-19",
         "location": "Manchester, UK",
         "place": 1,
         "eventResult": 1,
         "rankingPoints": "120.00",
         "startDate": "15",
         "_deepnote_index_column": 17
        },
        {
         "eventId": "11e8edc2-4b0a-6201-805a-02cae30e8f2a",
         "gRank": "G-4",
         "endDate": "20 October 2019",
         "eventRank": "None",
         "eventName": "Sofia 2019 World Taekwondo Grand-Prix",
         "generatedEndDate": "2019-10-20",
         "location": "Sofia, Bulgaria",
         "place": 1,
         "eventResult": 9,
         "rankingPoints": "6.05",
         "startDate": "18",
         "_deepnote_index_column": 18
        },
        {
         "eventId": "11e95798-ac55-f292-b26f-0a47f87ce510",
         "gRank": "G-4",
         "endDate": "3 November 2019",
         "eventRank": "None",
         "eventName": "G4 Extra European Championships",
         "generatedEndDate": "2019-11-03",
         "location": "Bari, Italy",
         "place": 1,
         "eventResult": 2,
         "rankingPoints": "24.00",
         "startDate": "1",
         "_deepnote_index_column": 19
        },
        {
         "eventId": "11e8edc4-c05c-2f91-805a-02cae30e8f2a",
         "gRank": "G-8",
         "endDate": "7 December 2019",
         "eventRank": "None",
         "eventName": "Moscow 2019 World Taekwondo Grand-Prix Final",
         "generatedEndDate": "2019-12-07",
         "location": "Moscow, Russia",
         "place": 1,
         "eventResult": 5,
         "rankingPoints": "12.10",
         "startDate": "6",
         "_deepnote_index_column": 20
        }
       ],
       "rows_bottom": null
      },
      "text/plain": "                                 eventId gRank            endDate eventRank  \\\n0   11e7d9c8-3c6d-6bf6-82cb-061a3c127d92   G-4        13 May 2018      None   \n1   11e74e9a-0bbf-f8ce-8b62-32cfdb66d63a   G-4        22 May 2016      None   \n2   11e74e9a-0723-dbb1-8b62-32cfdb66d63a   G-1      24 April 2016      None   \n3   11e74e9a-14f4-b106-8b62-32cfdb66d63a  G-20     20 August 2016      None   \n4   11e74e9a-1bc5-3b63-8b62-32cfdb66d63a   G-8   10 December 2016      None   \n5   11e6f466-e3cc-57db-9a5c-0689828eb611   G-2      30 April 2017      None   \n6   11e6fe53-0921-32de-9e01-0689828eb611  G-12       30 June 2017      None   \n7   11e725d6-ec39-80e9-ae1b-0a8c30bf787f   G-4  24 September 2017      None   \n8   11e725e8-4e01-2eb3-ae1b-0a8c30bf787f   G-4    22 October 2017      None   \n9   11e725ec-9b0d-9f13-ae1b-0a8c30bf787f   G-8    3 December 2017      None   \n10  11e7d9c4-83c6-ca10-b791-0a52019ae5aa   G-2      31 March 2018      None   \n11  11e7d9ce-5136-de39-82cb-061a3c127d92   G-4        3 June 2018      None   \n12  11e7d9d5-89e3-ab53-b791-0a52019ae5aa   G-4  21 September 2018      None   \n13  11e7d9d8-e842-9382-b791-0a52019ae5aa   G-4    21 October 2018      None   \n14  11e7d9de-222c-ae7e-82cb-061a3c127d92   G-8   23 November 2018      None   \n15  11e8eda6-c097-fbb3-805a-02cae30e8f2a   G-2      17 March 2019      None   \n16  11e8eda8-764f-3116-805a-02cae30e8f2a   G-1      21 April 2019      None   \n17  11e8eda9-03a9-903c-805a-02cae30e8f2a  G-12        19 May 2019      None   \n18  11e8edc2-4b0a-6201-805a-02cae30e8f2a   G-4    20 October 2019      None   \n19  11e95798-ac55-f292-b26f-0a47f87ce510   G-4    3 November 2019      None   \n20  11e8edc4-c05c-2f91-805a-02cae30e8f2a   G-8    7 December 2019      None   \n\n                                          eventName generatedEndDate  \\\n0                 2018 European Senior Championship       2018-05-13   \n1         ETU European Taekwondo Championships 2016       2016-05-22   \n2                                  GERMAN OPEN 2016       2016-04-24   \n3                            Rio 2016 Olympic Games       2016-08-20   \n4   2016 WTF World Taekwondo Grand-Prix Final, Baku       2016-12-10   \n5         2nd WTF President`s Cup - European Region       2017-04-30   \n6            2017 WTF World Taekwondo Championships       2017-06-30   \n7             World Taekwondo Grand-Prix Rabat 2017       2017-09-24   \n8            World Taekwondo Grand-Prix London 2017       2017-10-22   \n9     Abidjan 2017 World Taekwondo Grand Prix Final       2017-12-03   \n10              2nd WT Presidents Cup-Africa Region       2018-03-31   \n11             ROMA 2018 World Taekwondo Grand Prix       2018-06-03   \n12          Taoyuan 2018 World Taekwondo Grand-Prix       2018-09-21   \n13       Manchester 2018 World Taekwondo Grand-Prix       2018-10-21   \n14   Fujairah 2018 World Taekwondo Grand-Prix Final       2018-11-23   \n15                                Belgian Open 2019       2019-03-17   \n16                                  Sofia Open 2019       2019-04-21   \n17    Manchester 2019 World Taekwondo Championships       2019-05-19   \n18            Sofia 2019 World Taekwondo Grand-Prix       2019-10-20   \n19                  G4 Extra European Championships       2019-11-03   \n20     Moscow 2019 World Taekwondo Grand-Prix Final       2019-12-07   \n\n                   location  place  eventResult rankingPoints startDate  \n0             Kazan, Russia      1            1         30.00        10  \n1     Montreux, Switzerland      1            1         10.00        19  \n2          Hamburg, Germany      1            1          2.50        23  \n3               Rio, Brazil      1            1         50.00        17  \n4          Baku, Azerbaijan      1            1         20.00         9  \n5            Athens, Greece      1            1         10.00        27  \n6               Muju, Korea      1            3         21.60        24  \n7            Rabat, Morocco      1            2         12.00        22  \n8                London, UK      1            1         20.00        20  \n9    Abidjan, Cote d'Ivoire      1            1         40.00         2  \n10          Agadir, Morocco      1            9          2.27        31  \n11              Rome, Italy      1            1         30.00         1  \n12  Taoyuan, Chinese Taipei      1            5          6.48        19  \n13           Manchester, UK      1            1         30.00        19  \n14            Fujairah, UAE      1            5          9.08        22  \n15          Lommel, Belgium      1            2         12.00        16  \n16          Sofia, Bulgaria      1            1         10.00        20  \n17           Manchester, UK      1            1        120.00        15  \n18          Sofia, Bulgaria      1            9          6.05        18  \n19              Bari, Italy      1            2         24.00         1  \n20           Moscow, Russia      1            5         12.10         6  ",
      "text/html": "<div>\n<style scoped>\n    .dataframe tbody tr th:only-of-type {\n        vertical-align: middle;\n    }\n\n    .dataframe tbody tr th {\n        vertical-align: top;\n    }\n\n    .dataframe thead th {\n        text-align: right;\n    }\n</style>\n<table border=\"1\" class=\"dataframe\">\n  <thead>\n    <tr style=\"text-align: right;\">\n      <th></th>\n      <th>eventId</th>\n      <th>gRank</th>\n      <th>endDate</th>\n      <th>eventRank</th>\n      <th>eventName</th>\n      <th>generatedEndDate</th>\n      <th>location</th>\n      <th>place</th>\n      <th>eventResult</th>\n      <th>rankingPoints</th>\n      <th>startDate</th>\n    </tr>\n  </thead>\n  <tbody>\n    <tr>\n      <th>0</th>\n      <td>11e7d9c8-3c6d-6bf6-82cb-061a3c127d92</td>\n      <td>G-4</td>\n      <td>13 May 2018</td>\n      <td>None</td>\n      <td>2018 European Senior Championship</td>\n      <td>2018-05-13</td>\n      <td>Kazan, Russia</td>\n      <td>1</td>\n      <td>1</td>\n      <td>30.00</td>\n      <td>10</td>\n    </tr>\n    <tr>\n      <th>1</th>\n      <td>11e74e9a-0bbf-f8ce-8b62-32cfdb66d63a</td>\n      <td>G-4</td>\n      <td>22 May 2016</td>\n      <td>None</td>\n      <td>ETU European Taekwondo Championships 2016</td>\n      <td>2016-05-22</td>\n      <td>Montreux, Switzerland</td>\n      <td>1</td>\n      <td>1</td>\n      <td>10.00</td>\n      <td>19</td>\n    </tr>\n    <tr>\n      <th>2</th>\n      <td>11e74e9a-0723-dbb1-8b62-32cfdb66d63a</td>\n      <td>G-1</td>\n      <td>24 April 2016</td>\n      <td>None</td>\n      <td>GERMAN OPEN 2016</td>\n      <td>2016-04-24</td>\n      <td>Hamburg, Germany</td>\n      <td>1</td>\n      <td>1</td>\n      <td>2.50</td>\n      <td>23</td>\n    </tr>\n    <tr>\n      <th>3</th>\n      <td>11e74e9a-14f4-b106-8b62-32cfdb66d63a</td>\n      <td>G-20</td>\n      <td>20 August 2016</td>\n      <td>None</td>\n      <td>Rio 2016 Olympic Games</td>\n      <td>2016-08-20</td>\n      <td>Rio, Brazil</td>\n      <td>1</td>\n      <td>1</td>\n      <td>50.00</td>\n      <td>17</td>\n    </tr>\n    <tr>\n      <th>4</th>\n      <td>11e74e9a-1bc5-3b63-8b62-32cfdb66d63a</td>\n      <td>G-8</td>\n      <td>10 December 2016</td>\n      <td>None</td>\n      <td>2016 WTF World Taekwondo Grand-Prix Final, Baku</td>\n      <td>2016-12-10</td>\n      <td>Baku, Azerbaijan</td>\n      <td>1</td>\n      <td>1</td>\n      <td>20.00</td>\n      <td>9</td>\n    </tr>\n    <tr>\n      <th>5</th>\n      <td>11e6f466-e3cc-57db-9a5c-0689828eb611</td>\n      <td>G-2</td>\n      <td>30 April 2017</td>\n      <td>None</td>\n      <td>2nd WTF President`s Cup - European Region</td>\n      <td>2017-04-30</td>\n      <td>Athens, Greece</td>\n      <td>1</td>\n      <td>1</td>\n      <td>10.00</td>\n      <td>27</td>\n    </tr>\n    <tr>\n      <th>6</th>\n      <td>11e6fe53-0921-32de-9e01-0689828eb611</td>\n      <td>G-12</td>\n      <td>30 June 2017</td>\n      <td>None</td>\n      <td>2017 WTF World Taekwondo Championships</td>\n      <td>2017-06-30</td>\n      <td>Muju, Korea</td>\n      <td>1</td>\n      <td>3</td>\n      <td>21.60</td>\n      <td>24</td>\n    </tr>\n    <tr>\n      <th>7</th>\n      <td>11e725d6-ec39-80e9-ae1b-0a8c30bf787f</td>\n      <td>G-4</td>\n      <td>24 September 2017</td>\n      <td>None</td>\n      <td>World Taekwondo Grand-Prix Rabat 2017</td>\n      <td>2017-09-24</td>\n      <td>Rabat, Morocco</td>\n      <td>1</td>\n      <td>2</td>\n      <td>12.00</td>\n      <td>22</td>\n    </tr>\n    <tr>\n      <th>8</th>\n      <td>11e725e8-4e01-2eb3-ae1b-0a8c30bf787f</td>\n      <td>G-4</td>\n      <td>22 October 2017</td>\n      <td>None</td>\n      <td>World Taekwondo Grand-Prix London 2017</td>\n      <td>2017-10-22</td>\n      <td>London, UK</td>\n      <td>1</td>\n      <td>1</td>\n      <td>20.00</td>\n      <td>20</td>\n    </tr>\n    <tr>\n      <th>9</th>\n      <td>11e725ec-9b0d-9f13-ae1b-0a8c30bf787f</td>\n      <td>G-8</td>\n      <td>3 December 2017</td>\n      <td>None</td>\n      <td>Abidjan 2017 World Taekwondo Grand Prix Final</td>\n      <td>2017-12-03</td>\n      <td>Abidjan, Cote d'Ivoire</td>\n      <td>1</td>\n      <td>1</td>\n      <td>40.00</td>\n      <td>2</td>\n    </tr>\n    <tr>\n      <th>10</th>\n      <td>11e7d9c4-83c6-ca10-b791-0a52019ae5aa</td>\n      <td>G-2</td>\n      <td>31 March 2018</td>\n      <td>None</td>\n      <td>2nd WT Presidents Cup-Africa Region</td>\n      <td>2018-03-31</td>\n      <td>Agadir, Morocco</td>\n      <td>1</td>\n      <td>9</td>\n      <td>2.27</td>\n      <td>31</td>\n    </tr>\n    <tr>\n      <th>11</th>\n      <td>11e7d9ce-5136-de39-82cb-061a3c127d92</td>\n      <td>G-4</td>\n      <td>3 June 2018</td>\n      <td>None</td>\n      <td>ROMA 2018 World Taekwondo Grand Prix</td>\n      <td>2018-06-03</td>\n      <td>Rome, Italy</td>\n      <td>1</td>\n      <td>1</td>\n      <td>30.00</td>\n      <td>1</td>\n    </tr>\n    <tr>\n      <th>12</th>\n      <td>11e7d9d5-89e3-ab53-b791-0a52019ae5aa</td>\n      <td>G-4</td>\n      <td>21 September 2018</td>\n      <td>None</td>\n      <td>Taoyuan 2018 World Taekwondo Grand-Prix</td>\n      <td>2018-09-21</td>\n      <td>Taoyuan, Chinese Taipei</td>\n      <td>1</td>\n      <td>5</td>\n      <td>6.48</td>\n      <td>19</td>\n    </tr>\n    <tr>\n      <th>13</th>\n      <td>11e7d9d8-e842-9382-b791-0a52019ae5aa</td>\n      <td>G-4</td>\n      <td>21 October 2018</td>\n      <td>None</td>\n      <td>Manchester 2018 World Taekwondo Grand-Prix</td>\n      <td>2018-10-21</td>\n      <td>Manchester, UK</td>\n      <td>1</td>\n      <td>1</td>\n      <td>30.00</td>\n      <td>19</td>\n    </tr>\n    <tr>\n      <th>14</th>\n      <td>11e7d9de-222c-ae7e-82cb-061a3c127d92</td>\n      <td>G-8</td>\n      <td>23 November 2018</td>\n      <td>None</td>\n      <td>Fujairah 2018 World Taekwondo Grand-Prix Final</td>\n      <td>2018-11-23</td>\n      <td>Fujairah, UAE</td>\n      <td>1</td>\n      <td>5</td>\n      <td>9.08</td>\n      <td>22</td>\n    </tr>\n    <tr>\n      <th>15</th>\n      <td>11e8eda6-c097-fbb3-805a-02cae30e8f2a</td>\n      <td>G-2</td>\n      <td>17 March 2019</td>\n      <td>None</td>\n      <td>Belgian Open 2019</td>\n      <td>2019-03-17</td>\n      <td>Lommel, Belgium</td>\n      <td>1</td>\n      <td>2</td>\n      <td>12.00</td>\n      <td>16</td>\n    </tr>\n    <tr>\n      <th>16</th>\n      <td>11e8eda8-764f-3116-805a-02cae30e8f2a</td>\n      <td>G-1</td>\n      <td>21 April 2019</td>\n      <td>None</td>\n      <td>Sofia Open 2019</td>\n      <td>2019-04-21</td>\n      <td>Sofia, Bulgaria</td>\n      <td>1</td>\n      <td>1</td>\n      <td>10.00</td>\n      <td>20</td>\n    </tr>\n    <tr>\n      <th>17</th>\n      <td>11e8eda9-03a9-903c-805a-02cae30e8f2a</td>\n      <td>G-12</td>\n      <td>19 May 2019</td>\n      <td>None</td>\n      <td>Manchester 2019 World Taekwondo Championships</td>\n      <td>2019-05-19</td>\n      <td>Manchester, UK</td>\n      <td>1</td>\n      <td>1</td>\n      <td>120.00</td>\n      <td>15</td>\n    </tr>\n    <tr>\n      <th>18</th>\n      <td>11e8edc2-4b0a-6201-805a-02cae30e8f2a</td>\n      <td>G-4</td>\n      <td>20 October 2019</td>\n      <td>None</td>\n      <td>Sofia 2019 World Taekwondo Grand-Prix</td>\n      <td>2019-10-20</td>\n      <td>Sofia, Bulgaria</td>\n      <td>1</td>\n      <td>9</td>\n      <td>6.05</td>\n      <td>18</td>\n    </tr>\n    <tr>\n      <th>19</th>\n      <td>11e95798-ac55-f292-b26f-0a47f87ce510</td>\n      <td>G-4</td>\n      <td>3 November 2019</td>\n      <td>None</td>\n      <td>G4 Extra European Championships</td>\n      <td>2019-11-03</td>\n      <td>Bari, Italy</td>\n      <td>1</td>\n      <td>2</td>\n      <td>24.00</td>\n      <td>1</td>\n    </tr>\n    <tr>\n      <th>20</th>\n      <td>11e8edc4-c05c-2f91-805a-02cae30e8f2a</td>\n      <td>G-8</td>\n      <td>7 December 2019</td>\n      <td>None</td>\n      <td>Moscow 2019 World Taekwondo Grand-Prix Final</td>\n      <td>2019-12-07</td>\n      <td>Moscow, Russia</td>\n      <td>1</td>\n      <td>5</td>\n      <td>12.10</td>\n      <td>6</td>\n    </tr>\n  </tbody>\n</table>\n</div>"
     },
     "metadata": {}
    }
   ],
   "execution_count": 24
  },
  {
   "cell_type": "code",
   "source": "",
   "metadata": {
    "cell_id": "00003-31e81646-8223-4f6a-90ed-8b1d04ef7c10",
    "deepnote_cell_type": "visualization"
   },
   "outputs": [],
   "execution_count": null
  },
  {
   "cell_type": "markdown",
   "source": "<a style='text-decoration:none;line-height:16px;display:flex;color:#5B5B62;padding:10px;justify-content:end;' href='https://deepnote.com?utm_source=created-in-deepnote-cell&projectId=3b989541-29af-4ab7-9912-9f18ec722bd4' target=\"_blank\">\n<img alt='Created in deepnote.com' style='display:inline;max-height:16px;margin:0px;margin-right:7.5px;' src='data:image/svg+xml;base64,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' > </img>\nCreated in <span style='font-weight:600;margin-left:4px;'>Deepnote</span></a>",
   "metadata": {
    "tags": [],
    "created_in_deepnote_cell": true,
    "deepnote_cell_type": "markdown"
   }
  }
 ],
 "nbformat": 4,
 "nbformat_minor": 2,
 "metadata": {
  "kernelspec": {
   "display_name": "Python 3",
   "language": "python",
   "name": "python3"
  },
  "language_info": {
   "codemirror_mode": {
    "name": "ipython",
    "version": 3
   },
   "file_extension": ".py",
   "mimetype": "text/x-python",
   "name": "python",
   "nbconvert_exporter": "python",
   "pygments_lexer": "ipython3",
   "version": "3.6.3"
  },
  "deepnote_notebook_id": "a6259939-7b00-4e27-9610-f71c78e02197",
  "deepnote_execution_queue": [],
  "deepnote": {}
 }
}